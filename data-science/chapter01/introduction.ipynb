{
 "cells": [
  {
   "cell_type": "markdown",
   "id": "a6acc77a",
   "metadata": {},
   "source": [
    "# What is Data Science? / زانستی داتا چییە؟ / Zanista Data çi ye?\n",
    "\n",
    "\n",
    "Data Science is often used as another word for Statistics but for many people this is not a correct view. While Statistics is considered with smaller datasets, for Data Science we are concerned with big data. Statistics is about drawing a conclusion from the data with statistical tools while Data Science is not constrained to that. Data Science does more than statistics like Recommendation Systems used by TikTok and Instagram, Object Detection used by Tesla and other carmakers, A/B testing used by Netflix and much more.\n",
    "Data Science is what comes before any Machine Learning and AI project because the Data Scientist has to understand what is to be solved for. The Data Scientist uses Machine Learning to build AI systems together with the Machine Learning Engineer.\n",
    "An example is how TikTok built their app that always shows you new videos. Their Data Science department first had to understand all the data on the app before building the solution. \n",
    "\n",
    "زۆرجار زانستی داتا وەک وشەیەکی تر بۆ ئامار بەکاردێت بەڵام بۆ زۆر کەس ئەمە ڕوانگەیەکی دروست نییە. لە کاتێکدا ئامار بە کۆمەڵە داتا بچووکەکانەوە لەبەرچاو دەگیرێت، بۆ زانستی داتا ئێمە خەمی داتا گەورەکانمان هەیە. ئامار بریتییە لە دەرهێنانی ئەنجامێک لە داتاکان بە ئامرازەکانی ئاماری لە کاتێکدا زانستی داتا سنووردار نییە بەو شتە. زانستی داتا زیاتر لە ئامارەکانی وەک سیستەمی پێشنیارکردن کە لەلایەن تیک تۆک و ئینستاگرامەوە بەکاردەهێنرێت، دۆزینەوەی شتەکان کە لەلایەن تێسلا و کۆمپانیاکانی تری دروستکردنی ئۆتۆمبێلەوە بەکاردەهێنرێت، تاقیکردنەوەی A/B کە لەلایەن نێتفلێکسەوە بەکاردەهێنرێت و زۆر شتی تر.\n",
    "زانستی داتا ئەوەیە کە پێش هەر پڕۆژەیەکی فێربوونی ئامێر و AI دێت چونکە زانای داتا دەبێت لەوە تێبگات کە بۆ چی چارەسەر دەکرێت. زانای داتا فێربوونی ئامێر بەکاردەهێنێت بۆ دروستکردنی سیستەمی AI لەگەڵ ئەندازیاری فێربوونی ئامێر.\n",
    "نموونەیەک ئەوەیە کە چۆن تیک تۆک ئەپەکەیان دروست کردووە کە هەمیشە ڤیدیۆی نوێت پیشان دەدات. بەشی زانستی داتاکانیان سەرەتا دەبوو لە هەموو داتاکانی سەر ئەپەکە تێبگەن پێش ئەوەی چارەسەرەکە دروست بکەن.\n",
    "\n",
    "Zanista Daneyan gelek caran wekî peyvek din ji bo Îstatîstîkê tê bikar anîn, lê ji bo gelek kesan ev nêrînek rast nîne. Her çend Îstatîstîk bi setên daneyên piçûktir tê hesibandin jî, ji bo Zanista Daneyan em bi daneyên mezin re eleqedar in. Îstatîstîk li ser derxistina encamek ji daneyan bi amûrên îstatîstîkî ye, lê Zanista Daneyan bi vê yekê ve sînordar nîne. Zanista Daneyan ji îstatîstîkan bêtir tiştan dike, wekî Sîstemên Pêşniyarê yên ku ji hêla TikTok û Instagram ve têne bikar anîn, Tesbîtkirina Tiştan a ku ji hêla Tesla û çêkerên din ên otomobîlan ve tê bikar anîn, ceribandina A/B ya ku ji hêla Netflix ve tê bikar anîn û gelek tiştên din.\n",
    "Zanista Daneyan ew e ku berî her projeyek Fêrbûna Makîneyê û AI tê ji ber ku Zanistvanê Daneyan divê fêm bike ka çi çareser dibe. Zanistvanê Daneyan Fêrbûna Makîneyê bikar tîne da ku pergalên AI bi hev re bi Endezyarê Fêrbûna Makîneyê re ava bike.\n",
    "Nimûneyek ev e ku TikTok çawa sepanê xwe çêkir ku her gav vîdyoyên nû nîşanî we dide. Beşa Zanista Daneyan a wan pêşî neçar ma ku hemî daneyên li ser sepanê fêm bike berî ku çareseriyê ava bike."
   ]
  },
  {
   "cell_type": "markdown",
   "id": "6acd715a",
   "metadata": {},
   "source": [
    "### Data Science vs. Statistics\n",
    "\n",
    "\n",
    "\n",
    "![image](/Users/a1002142/Desktop/private_repo/Margaret-ai-and-data-science/assets/tds_venn.jpeg)"
   ]
  },
  {
   "cell_type": "markdown",
   "id": "adbdacc3",
   "metadata": {},
   "source": [
    "### Real world applications kids can relate to\n",
    "\n",
    "#### 1. Video Recommendation Systems\n",
    "\n",
    "- **Content-Based Filtering**: TikTok and YouTube analyze video characteristics (length of the video, topic of the video, style of the video) and match them with the viewing history. For example, if you watch several dinosaur videos, the algorithm identifies this preference pattern and suggests more dinosaur content.\n",
    "\n",
    "- **Collaborative Filtering**: These systems identify other children with similar viewing patterns. If Child A and Child B both watched 20 similar videos, and Child A watched something Child B hasn't seen, that video becomes a high-priority recommendation for Child B.\n",
    "\n",
    "- **Engagement Metrics**: Algorithms track how long you watch videos, whether they rewatch it, like, comment, or share. A video watched completely receives a higher recommendation weight than one where the child quickly scrolled past. A recommendation weight is similar to a number between 0 and 1 like 0.05 or 0.7 - a higher weight is closer to 1. A quick interpretation of it is to say \"this video is only 5% important\" which is 0.05 or \"this video is 90% important\" which is 0.9.\n",
    "\n",
    "- **Session-Based Analysis**: TikTok's \"For You Page\" famously updates recommendations within minutes of new activity, creating an almost instantaneous personalization loop that responds to immediate interest shifts.\n",
    "\n",
    "\n",
    "![image](/Users/a1002142/Desktop/private_repo/Margaret-ai-and-data-science/assets/recsys.png)\n",
    "\n",
    "\n"
   ]
  },
  {
   "cell_type": "markdown",
   "id": "64c92b7a",
   "metadata": {},
   "source": [
    "#### 2. Music Discovery\n",
    "\n",
    "- **Audio Feature Analysis**: Spotify extracts hundreds of features from songs (tempo, energy, danceability, instrumentalness, etc.) to create \"audio fingerprints\" of each track.\n",
    "\n",
    "- **Taste Clustering**: Children are grouped with others having similar music preferences, creating \"taste neighborhoods\" that inform recommendations.\n",
    "\n",
    "- **Time-Sensitive Recommendations**: Music apps consider day of week and time of day - suggesting energetic music in mornings and calmer tracks in evenings.\n",
    "\n",
    "- **Context Recognition**: These systems identify where children listen (at home via smart speaker vs. on headphones while moving) to adjust recommendations.\n",
    "\n",
    "- **Hybrid Systems**: Modern music recommendation combines content analysis, collaborative filtering, and contextual information for multi-dimensional recommendations.\n",
    "\n",
    "![image](/Users/a1002142/Desktop/private_repo/Margaret-ai-and-data-science/assets/recsysmusic.png)"
   ]
  },
  {
   "cell_type": "markdown",
   "id": "8493ec60",
   "metadata": {},
   "source": [
    "#### 3. Sports Analytics\n",
    "\n",
    "\n",
    "- **Player Performance Metrics**: Beyond basic statistics, advanced metrics like Expected Goals (xG) in soccer or Player Efficiency Rating (PER) in basketball use historical data to evaluate not just what happened but what should have happened.\n",
    "\n",
    "- **Optical Tracking Systems**: Computer vision systems track every player's movement, creating gigabytes of position data per game that algorithms process to identify optimal strategies.\n",
    "\n",
    "- **Game Outcome Prediction**: Machine learning models combine team performance, player availability, historical matchups, rest days, home-field advantage, and even weather conditions to predict game outcomes.\n",
    "\n",
    "- **Play Prediction**: Teams use pattern recognition to predict opponent strategies. For example, if a football team runs a specific play 80% of the time on 3rd down with 2 yards to go, defenders can prepare accordingly.\n",
    "\n",
    "- **Fantasy Sports Optimization**: Recommendation engines identify \"sleeper picks\" and optimal lineups based on matchup analysis, player health, and performance trends.\n",
    "\n",
    "![image](/Users/a1002142/Desktop/private_repo/Margaret-ai-and-data-science/assets/compvis.png)"
   ]
  },
  {
   "cell_type": "markdown",
   "id": "49bcfd2f",
   "metadata": {},
   "source": [
    "#### 4. Social Media Trends\n",
    "\n",
    "**How They Work:**\n",
    "- **Virality Prediction**: Algorithms analyze early engagement patterns (shares per view, share velocity, network diversity) to predict which content will go viral.\n",
    "\n",
    "- **Trend Detection**: Natural language processing identifies unusual spikes in specific words or phrases across platforms, tracking propagation patterns through network graphs.\n",
    "\n",
    "- **Sentiment Analysis**: Social platforms use text and image analysis to categorize content sentiment, amplifying positive content and flagging potentially negative interactions.\n",
    "\n",
    "- **Bot Detection**: Anomaly detection algorithms identify non-human behavior patterns by analyzing posting frequency, content similarity, and interaction patterns.\n",
    "\n",
    "- **Content Moderation**: Multi-layered systems combine keyword filtering, image recognition, and context understanding to detect inappropriate content before it reaches users.\n",
    "\n",
    "![image](/Users/a1002142/Desktop/private_repo/Margaret-ai-and-data-science/assets/network.jpg)"
   ]
  },
  {
   "cell_type": "markdown",
   "id": "f8cd0b34",
   "metadata": {},
   "source": [
    "## Make sure your Python works\n",
    "\n",
    "Make sure it works by executing below code blocks"
   ]
  },
  {
   "cell_type": "code",
   "execution_count": null,
   "id": "58bc169a",
   "metadata": {},
   "outputs": [],
   "source": [
    "import os\n",
    "os.getcwd() # Should give you the current directory you are working in"
   ]
  }
 ],
 "metadata": {
  "kernelspec": {
   "display_name": "confaisuli",
   "language": "python",
   "name": "python3"
  },
  "language_info": {
   "codemirror_mode": {
    "name": "ipython",
    "version": 3
   },
   "file_extension": ".py",
   "mimetype": "text/x-python",
   "name": "python",
   "nbconvert_exporter": "python",
   "pygments_lexer": "ipython3",
   "version": "3.11.10"
  }
 },
 "nbformat": 4,
 "nbformat_minor": 5
}
