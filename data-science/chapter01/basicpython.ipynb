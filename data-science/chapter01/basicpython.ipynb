{
 "cells": [
  {
   "cell_type": "markdown",
   "id": "409f9039",
   "metadata": {},
   "source": [
    "# Basic Python\n",
    "\n",
    "In this section we will familiarize ourselves with basic Python. This is for all ages.\n"
   ]
  },
  {
   "cell_type": "markdown",
   "id": "76151cf1",
   "metadata": {},
   "source": []
  },
  {
   "cell_type": "markdown",
   "id": "17b19658",
   "metadata": {},
   "source": [
    "### Lists\n",
    "\n",
    "Lists can be seen as a box with different things in it. You can have food, drinks, blankets, and clothes in it. What is good about lists is that you can always remove or add an item just like if you want to add more stuff to your box.\n",
    "\n",
    "![image](https://github.com/jakorostami/Margaret-ai-and-data-science/blob/main/assets/toybox.png?raw=true)"
   ]
  },
  {
   "cell_type": "code",
   "execution_count": 1,
   "id": "bab89c01",
   "metadata": {},
   "outputs": [
    {
     "data": {
      "text/plain": [
       "['dog', 'cat', 'fish']"
      ]
     },
     "execution_count": 1,
     "metadata": {},
     "output_type": "execute_result"
    }
   ],
   "source": [
    "my_pets = [\"dog\", \"cat\", \"fish\"]\n",
    "\n",
    "my_pets"
   ]
  },
  {
   "cell_type": "markdown",
   "id": "25e9a119",
   "metadata": {},
   "source": [
    "Let's say that you receive a new pet!"
   ]
  },
  {
   "cell_type": "code",
   "execution_count": 2,
   "id": "694e13dd",
   "metadata": {},
   "outputs": [
    {
     "data": {
      "text/plain": [
       "['dog', 'cat', 'fish', 'lizard']"
      ]
     },
     "execution_count": 2,
     "metadata": {},
     "output_type": "execute_result"
    }
   ],
   "source": [
    "# You receive a new pet\n",
    "my_pets.append(\"lizard\") \n",
    "\n",
    "my_pets"
   ]
  },
  {
   "cell_type": "markdown",
   "id": "739b5510",
   "metadata": {},
   "source": [
    "### Dictionary\n",
    "\n",
    "A dictionary could be viewed as a kitchen drawer where your mother puts her jars of different stuff in the jars.\n",
    "\n",
    "![image](https://github.com/jakorostami/Margaret-ai-and-data-science/blob/main/assets/drawer.png?raw=true)"
   ]
  },
  {
   "cell_type": "code",
   "execution_count": null,
   "id": "345a2f0b",
   "metadata": {},
   "outputs": [],
   "source": []
  },
  {
   "cell_type": "markdown",
   "id": "ca372928",
   "metadata": {},
   "source": [
    "### Tuples\n",
    "\n",
    "Sometimes we dont have boxes nor drawers, sometimes we have things we cannot change like photo albums or fossils in rocks and stones. Tuples can be viewed as sort of something like that which contains something but we cannot change it. Like a lock.\n",
    "\n",
    "![image](https://github.com/jakorostami/Margaret-ai-and-data-science/blob/main/assets/album.jpg?raw=true)"
   ]
  },
  {
   "cell_type": "code",
   "execution_count": null,
   "id": "f1fde0e7",
   "metadata": {},
   "outputs": [],
   "source": []
  }
 ],
 "metadata": {
  "kernelspec": {
   "display_name": "confaisuli",
   "language": "python",
   "name": "python3"
  },
  "language_info": {
   "codemirror_mode": {
    "name": "ipython",
    "version": 3
   },
   "file_extension": ".py",
   "mimetype": "text/x-python",
   "name": "python",
   "nbconvert_exporter": "python",
   "pygments_lexer": "ipython3",
   "version": "3.11.10"
  }
 },
 "nbformat": 4,
 "nbformat_minor": 5
}
