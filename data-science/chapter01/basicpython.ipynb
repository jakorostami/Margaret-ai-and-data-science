{
 "cells": [
  {
   "cell_type": "markdown",
   "id": "409f9039",
   "metadata": {},
   "source": [
    "# Basic Python\n",
    "\n",
    "In this section we will familiarize ourselves with basic Python. This is for all ages.\n"
   ]
  },
  {
   "cell_type": "markdown",
   "id": "76151cf1",
   "metadata": {},
   "source": []
  },
  {
   "cell_type": "markdown",
   "id": "17b19658",
   "metadata": {},
   "source": [
    "### Lists\n",
    "\n",
    "Lists can be seen as a box with different things in it. You can have food, drinks, blankets, and clothes in it. What is good about lists is that you can always remove or add an item just like if you want to add more stuff to your box.\n",
    "\n",
    "![image](https://github.com/jakorostami/Margaret-ai-and-data-science/blob/main/assets/toybox.png?raw=true)"
   ]
  },
  {
   "cell_type": "code",
   "execution_count": 1,
   "id": "bab89c01",
   "metadata": {},
   "outputs": [
    {
     "data": {
      "text/plain": [
       "['dog', 'cat', 'fish']"
      ]
     },
     "execution_count": 1,
     "metadata": {},
     "output_type": "execute_result"
    }
   ],
   "source": [
    "my_pets = [\"dog\", \"cat\", \"fish\"]\n",
    "\n",
    "my_pets"
   ]
  },
  {
   "cell_type": "markdown",
   "id": "25e9a119",
   "metadata": {},
   "source": [
    "Let's say that you receive a new pet!"
   ]
  },
  {
   "cell_type": "code",
   "execution_count": 2,
   "id": "694e13dd",
   "metadata": {},
   "outputs": [
    {
     "data": {
      "text/plain": [
       "['dog', 'cat', 'fish', 'lizard']"
      ]
     },
     "execution_count": 2,
     "metadata": {},
     "output_type": "execute_result"
    }
   ],
   "source": [
    "# You receive a new pet\n",
    "my_pets.append(\"lizard\") \n",
    "\n",
    "my_pets"
   ]
  },
  {
   "cell_type": "markdown",
   "id": "739b5510",
   "metadata": {},
   "source": [
    "### Dictionary\n",
    "\n",
    "A dictionary could be viewed as a kitchen drawer where your mother puts her jars of different stuff in the jars.\n",
    "\n",
    "![image](https://github.com/jakorostami/Margaret-ai-and-data-science/blob/main/assets/drawer.png?raw=true)"
   ]
  },
  {
   "cell_type": "code",
   "execution_count": 1,
   "id": "345a2f0b",
   "metadata": {},
   "outputs": [],
   "source": [
    "my_drawer = {\n",
    "    \"cookies\": 5,\n",
    "    \"mayo\": \"1kg\",\n",
    "    \"jam\": \"500g\",\n",
    "    \"tomato\": 10,\n",
    "    \"sugar\": \"1kg\",\n",
    "    \"salt\": \"600g\"\n",
    "}"
   ]
  },
  {
   "cell_type": "markdown",
   "id": "ac386e41",
   "metadata": {},
   "source": [
    "Now imagine you are opening the drawer and want to see how much sugar you have"
   ]
  },
  {
   "cell_type": "code",
   "execution_count": 2,
   "id": "ce545be0",
   "metadata": {},
   "outputs": [
    {
     "data": {
      "text/plain": [
       "'1kg'"
      ]
     },
     "execution_count": 2,
     "metadata": {},
     "output_type": "execute_result"
    }
   ],
   "source": [
    "# How much sugar do you have?\n",
    "my_drawer[\"sugar\"]"
   ]
  },
  {
   "cell_type": "markdown",
   "id": "ca372928",
   "metadata": {},
   "source": [
    "### Tuples\n",
    "\n",
    "Sometimes we dont have boxes nor drawers, sometimes we have things we cannot change like photo albums or fossils in rocks and stones. Tuples can be viewed as sort of something like that which contains something but we cannot change it. Like a lock.\n",
    "\n",
    "![image](https://github.com/jakorostami/Margaret-ai-and-data-science/blob/main/assets/album.jpg?raw=true)"
   ]
  },
  {
   "cell_type": "code",
   "execution_count": 3,
   "id": "f1fde0e7",
   "metadata": {},
   "outputs": [
    {
     "data": {
      "text/plain": [
       "('photo1', 'photo2')"
      ]
     },
     "execution_count": 3,
     "metadata": {},
     "output_type": "execute_result"
    }
   ],
   "source": [
    "my_photos = (\"photo1\", \"photo2\")\n",
    "my_photos"
   ]
  },
  {
   "cell_type": "markdown",
   "id": "8e35e627",
   "metadata": {},
   "source": [
    "### Variables\n",
    "\n",
    "Another thing we need to know is what variables are. As the name sounds it is something that is varying or allowed to change. Basically it means it can mean anything from the number 0 to number 10 if we want. Just how your age is changing the older you get we can view age as a variable. "
   ]
  },
  {
   "cell_type": "code",
   "execution_count": 18,
   "id": "84e1f186",
   "metadata": {},
   "outputs": [
    {
     "data": {
      "text/plain": [
       "9"
      ]
     },
     "execution_count": 18,
     "metadata": {},
     "output_type": "execute_result"
    }
   ],
   "source": [
    "my_age = 9\n",
    "\n",
    "my_age"
   ]
  },
  {
   "cell_type": "markdown",
   "id": "dbb551a2",
   "metadata": {},
   "source": [
    "But what if you are 1 year older? You are allowed to add to your variable"
   ]
  },
  {
   "cell_type": "code",
   "execution_count": 19,
   "id": "1a70f6a6",
   "metadata": {},
   "outputs": [
    {
     "data": {
      "text/plain": [
       "10"
      ]
     },
     "execution_count": 19,
     "metadata": {},
     "output_type": "execute_result"
    }
   ],
   "source": [
    "my_age = my_age + 1\n",
    "\n",
    "my_age"
   ]
  },
  {
   "cell_type": "markdown",
   "id": "c7cb4892",
   "metadata": {},
   "source": [
    "### Arithmetic\n",
    "\n",
    "So far we have only mentioned how we can create different types of objects (also called data structures). But we can also do mathematics if we want. "
   ]
  },
  {
   "cell_type": "code",
   "execution_count": 20,
   "id": "ccf0d67b",
   "metadata": {},
   "outputs": [
    {
     "data": {
      "text/plain": [
       "11"
      ]
     },
     "execution_count": 20,
     "metadata": {},
     "output_type": "execute_result"
    }
   ],
   "source": [
    "# Addition\n",
    "\n",
    "# We can add to our age again but this time with a different addition\n",
    "my_age += 1\n",
    "\n",
    "my_age"
   ]
  },
  {
   "cell_type": "code",
   "execution_count": null,
   "id": "03898da6",
   "metadata": {},
   "outputs": [
    {
     "data": {
      "text/plain": [
       "10"
      ]
     },
     "execution_count": 21,
     "metadata": {},
     "output_type": "execute_result"
    }
   ],
   "source": [
    "# Subtraction\n",
    "\n",
    "# We can also subtract from our age\n",
    "\n",
    "my_age -= 1\n",
    "\n",
    "# Or like this\n",
    "# my_age = my_age - 1\n",
    "\n",
    "my_age"
   ]
  },
  {
   "cell_type": "code",
   "execution_count": null,
   "id": "ef2f008f",
   "metadata": {},
   "outputs": [
    {
     "data": {
      "text/plain": [
       "20"
      ]
     },
     "execution_count": 22,
     "metadata": {},
     "output_type": "execute_result"
    }
   ],
   "source": [
    "# Multiplication\n",
    "\n",
    "my_age *= 2\n",
    "\n",
    "# Or like this\n",
    "# my_age = my_age * 2\n",
    "\n",
    "my_age"
   ]
  },
  {
   "cell_type": "code",
   "execution_count": null,
   "id": "d7288006",
   "metadata": {},
   "outputs": [
    {
     "data": {
      "text/plain": [
       "10.0"
      ]
     },
     "execution_count": 23,
     "metadata": {},
     "output_type": "execute_result"
    }
   ],
   "source": [
    "# Division\n",
    "\n",
    "my_age /= 2\n",
    "\n",
    "# Or like this\n",
    "# my_age = my_age / 2\n",
    "\n",
    "my_age"
   ]
  },
  {
   "cell_type": "markdown",
   "id": "7295a550",
   "metadata": {},
   "source": [
    "### Data types\n",
    "\n",
    "As you can see from above we have the number 10 shown to us with one decimal point (10.0) and this is called a floating point. <br>\n",
    "\n",
    "The other numbers before it are called integers - just like the integers from mathematics. Floating point numbers are just numbers with decimal points and different length of decimal points. <br>\n",
    "\n",
    "Some are 114.6, 12.2226 or 12.34831319. That is called floating point precision. How precise you want your number to be in decimal form. <br>\n",
    "\n",
    "We will look at the most basic data types below."
   ]
  },
  {
   "cell_type": "code",
   "execution_count": 26,
   "id": "5c35847e",
   "metadata": {},
   "outputs": [
    {
     "data": {
      "text/plain": [
       "12"
      ]
     },
     "execution_count": 26,
     "metadata": {},
     "output_type": "execute_result"
    }
   ],
   "source": [
    "# Integers\n",
    "\n",
    "int(12.3431)"
   ]
  },
  {
   "cell_type": "code",
   "execution_count": 28,
   "id": "210ceacc",
   "metadata": {},
   "outputs": [
    {
     "data": {
      "text/plain": [
       "12.0"
      ]
     },
     "execution_count": 28,
     "metadata": {},
     "output_type": "execute_result"
    }
   ],
   "source": [
    "# Floating point\n",
    "\n",
    "float(12)"
   ]
  },
  {
   "cell_type": "code",
   "execution_count": null,
   "id": "bfc98130",
   "metadata": {},
   "outputs": [
    {
     "data": {
      "text/plain": [
       "'Hello, world!'"
      ]
     },
     "execution_count": 30,
     "metadata": {},
     "output_type": "execute_result"
    }
   ],
   "source": [
    "# Strings and characters\n",
    "\n",
    "my_string = \"Hello, world!\"\n",
    "my_string"
   ]
  },
  {
   "cell_type": "code",
   "execution_count": 32,
   "id": "82e6c1c8",
   "metadata": {},
   "outputs": [
    {
     "data": {
      "text/plain": [
       "True"
      ]
     },
     "execution_count": 32,
     "metadata": {},
     "output_type": "execute_result"
    }
   ],
   "source": [
    "# Boolean (true or false, yes or no, 1 or 0)\n",
    "\n",
    "i_love_python = True\n",
    "\n",
    "i_love_python"
   ]
  }
 ],
 "metadata": {
  "kernelspec": {
   "display_name": "confaisuli",
   "language": "python",
   "name": "python3"
  },
  "language_info": {
   "codemirror_mode": {
    "name": "ipython",
    "version": 3
   },
   "file_extension": ".py",
   "mimetype": "text/x-python",
   "name": "python",
   "nbconvert_exporter": "python",
   "pygments_lexer": "ipython3",
   "version": "3.11.10"
  }
 },
 "nbformat": 4,
 "nbformat_minor": 5
}
